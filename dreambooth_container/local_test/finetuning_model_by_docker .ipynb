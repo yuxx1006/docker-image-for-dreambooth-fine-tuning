{
 "cells": [
  {
   "cell_type": "markdown",
   "id": "a31cb047",
   "metadata": {},
   "source": [
    "## We need stable diffusion model and docker image in the EC2 instance"
   ]
  },
  {
   "cell_type": "code",
   "execution_count": null,
   "id": "244c35b6",
   "metadata": {},
   "outputs": [],
   "source": [
    "# permission to use sagemaker including \n",
    "# AmazonEC2ContainerRegistryFullAccess, AmazonS3FullAccess, AmazonSageMakerFullAccess\n",
    "import sagemaker \n",
    "import boto3  \n",
    "sess = sagemaker.Session() \n",
    "# sagemaker session bucket -> used for uploading data, models and logs \n",
    "# sagemaker will automatically create this bucket if it not exists \n",
    "sagemaker_session_bucket = None \n",
    "if sagemaker_session_bucket is None and sess is not None:     \n",
    "    # set to default bucket if a bucket name is not given  \n",
    "    sagemaker_session_bucket = sess.default_bucket()\n",
    "try:\n",
    "    role = sagemaker.get_execution_role() \n",
    "except ValueError:\n",
    "    iam = boto3.client(\"iam\")\n",
    "    role = iam.get_role(RoleName=\"sagemaker_execution_role\")[\"Role\"][\"Arn\"]\n",
    "sess = sagemaker.Session(default_bucket=sagemaker_session_bucket)  \n",
    "print(f\"sagemaker role arn: {role}\")\n",
    "print(f\"sagemaker bucket: {sess.default_bucket()}\") \n",
    "print(f\"sagemaker session region: {sess.boto_region_name}\")"
   ]
  },
  {
   "cell_type": "code",
   "execution_count": null,
   "id": "ecdda6a6",
   "metadata": {},
   "outputs": [],
   "source": [
    "# go to test_dir directory\n",
    "%cd test_dir/"
   ]
  },
  {
   "cell_type": "markdown",
   "id": "f01596e8",
   "metadata": {},
   "source": [
    "## Upload your images to a new folder e.g. zwx (zwx is your instance class)\n",
    "#### ./local_test/test_dir/input/data/"
   ]
  },
  {
   "cell_type": "code",
   "execution_count": null,
   "id": "d8563d60",
   "metadata": {},
   "outputs": [],
   "source": [
    "# remove the old model if exists\n",
    "# if no model, skip this step\n",
    "# rm model and pic\n",
    "!sudo rm -rf ./model\n",
    "# make model directory \n",
    "!mkdir -p model"
   ]
  },
  {
   "cell_type": "code",
   "execution_count": null,
   "id": "9e660b95",
   "metadata": {},
   "outputs": [],
   "source": [
    "MODEL_NAME = \"./stable-diffusion-v1-5\"\n",
    "OUTPUT_DIR = \"./model\"\n",
    "ACCELERATE_CONFIG = \"./accelerate-config.yaml\""
   ]
  },
  {
   "cell_type": "code",
   "execution_count": null,
   "id": "b0a310e6",
   "metadata": {},
   "outputs": [],
   "source": [
    "# need to update the instance prompt and class prompt folder info\n",
    "# concepts_list.json is generated\n",
    "local_instance_dir = \"./input/data/zwx\"\n",
    "\n",
    "concepts_list = [\n",
    "    {\n",
    "        \"instance_prompt\":      \"photo of zwx model\",\n",
    "        \"class_prompt\":         \"photo of a model\",\n",
    "        \"instance_data_dir\":    \"/opt/ml/input/data/zwx\",\n",
    "        \"class_data_dir\":       \"/opt/ml/input/data/woman\"\n",
    "    }\n",
    "]\n",
    "\n",
    "import json\n",
    "import os\n",
    "os.makedirs(local_instance_dir, exist_ok=True)\n",
    "\n",
    "with open(\"concepts_list.json\", \"w\") as f:\n",
    "    json.dump(concepts_list, f, indent=4)"
   ]
  },
  {
   "cell_type": "code",
   "execution_count": null,
   "id": "40cd3be7",
   "metadata": {},
   "outputs": [],
   "source": [
    "# model config\n",
    "ACCELERATE_CONFIG=\"/opt/ml/accelerate-config.yaml\"\n",
    "MODEL_NAME=\"/opt/ml/stable-diffusion-v1-5\"\n",
    "OUTPUT_DIR=\"/opt/ml/model\"\n",
    "CONCEPT_LIST=\"/opt/ml/concepts_list.json\""
   ]
  },
  {
   "cell_type": "code",
   "execution_count": null,
   "id": "f36e4275",
   "metadata": {},
   "outputs": [],
   "source": [
    "# go to local_test directory to run train_dreamscrape.py\n",
    "%cd .."
   ]
  },
  {
   "cell_type": "code",
   "execution_count": null,
   "id": "a4929756",
   "metadata": {},
   "outputs": [],
   "source": [
    "!sudo docker run -it --gpus=all --ipc=host -v $(pwd)/test_dir:/opt/ml --rm pytorch-sagemaker-training:v1.0 \\\n",
    "  accelerate launch --config_file=$ACCELERATE_CONFIG /opt/ml/train_dreambooth.py \\\n",
    "  --pretrained_model_name_or_path=$MODEL_NAME \\\n",
    "  --pretrained_vae_name_or_path=\"stabilityai/sd-vae-ft-mse\" \\\n",
    "  --output_dir=$OUTPUT_DIR \\\n",
    "  --revision=\"fp16\" \\\n",
    "  --with_prior_preservation=True \\\n",
    "  --prior_loss_weight=1.0 \\\n",
    "  --seed=15213 \\\n",
    "  --resolution=512 \\\n",
    "  --train_batch_size=2 \\\n",
    "  --train_text_encoder=True \\\n",
    "  --mixed_precision=\"fp16\" \\\n",
    "  --use_8bit_adam=True \\\n",
    "  --gradient_accumulation_steps=1 \\\n",
    "  --gradient_checkpointing=True \\\n",
    "  --learning_rate=1e-6 \\\n",
    "  --lr_scheduler=\"constant\" \\\n",
    "  --lr_warmup_steps=0 \\\n",
    "  --num_class_images=50 \\\n",
    "  --sample_batch_size=4 \\\n",
    "  --max_train_steps=1500 \\\n",
    "  --save_interval=10000 \\\n",
    "  --concepts_list=$CONCEPT_LIST \n",
    "        \n",
    "        "
   ]
  },
  {
   "cell_type": "code",
   "execution_count": null,
   "id": "77de3713",
   "metadata": {},
   "outputs": [],
   "source": [
    "%cd model"
   ]
  },
  {
   "cell_type": "code",
   "execution_count": null,
   "id": "9db92c77",
   "metadata": {},
   "outputs": [],
   "source": [
    "# upload the model to s3 bucket\n",
    "import boto3\n",
    "bucket = \"S3_BUCKET\"\n",
    "s3_bucket_dir = \"MODEL_STORAGE_KEY\"\n",
    "s3 = boto3.resource('s3')\n",
    "s3.meta.client.upload_file('model.tar.gz', bucket, s3_bucket_dir)\n"
   ]
  },
  {
   "cell_type": "code",
   "execution_count": null,
   "id": "e527061a",
   "metadata": {},
   "outputs": [],
   "source": [
    "from sagemaker.huggingface.model import HuggingFaceModel\n",
    "\n",
    "def deploy_huggingface_sagemaker(model_s3_location, role):\n",
    "    huggingface_model = HuggingFaceModel(\n",
    "        model_data=model_s3_location,  # path to your model & script\n",
    "        role=role,  # iam role with permissions for Endpoint\n",
    "        transformers_version=\"4.17\",  # transformers version used\n",
    "        pytorch_version=\"1.10\",  # pytorch version used\n",
    "        py_version=\"py38\",  # python version used\n",
    "    )\n",
    "\n",
    "    # deploy the endpoint endpoint\n",
    "    predictor = huggingface_model.deploy(\n",
    "        initial_instance_count=1, \n",
    "        instance_type=\"ml.g4dn.xlarge\"\n",
    "    )\n",
    "    return predictor.endpoint_name"
   ]
  },
  {
   "cell_type": "code",
   "execution_count": null,
   "id": "5c7844af",
   "metadata": {},
   "outputs": [],
   "source": [
    "endpoint = deploy_huggingface_sagemaker(model_path, role)"
   ]
  }
 ],
 "metadata": {
  "kernelspec": {
   "display_name": "Python 3 (ipykernel)",
   "language": "python",
   "name": "python3"
  },
  "language_info": {
   "codemirror_mode": {
    "name": "ipython",
    "version": 3
   },
   "file_extension": ".py",
   "mimetype": "text/x-python",
   "name": "python",
   "nbconvert_exporter": "python",
   "pygments_lexer": "ipython3",
   "version": "3.8.15"
  }
 },
 "nbformat": 4,
 "nbformat_minor": 5
}
